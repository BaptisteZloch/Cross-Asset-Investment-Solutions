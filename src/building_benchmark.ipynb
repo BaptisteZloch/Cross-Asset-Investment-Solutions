{
 "cells": [
  {
   "cell_type": "code",
   "execution_count": 64,
   "metadata": {},
   "outputs": [
    {
     "data": {
      "text/html": [
       "<div>\n",
       "<style scoped>\n",
       "    .dataframe tbody tr th:only-of-type {\n",
       "        vertical-align: middle;\n",
       "    }\n",
       "\n",
       "    .dataframe tbody tr th {\n",
       "        vertical-align: top;\n",
       "    }\n",
       "\n",
       "    .dataframe thead th {\n",
       "        text-align: right;\n",
       "    }\n",
       "</style>\n",
       "<table border=\"1\" class=\"dataframe\">\n",
       "  <thead>\n",
       "    <tr style=\"text-align: right;\">\n",
       "      <th></th>\n",
       "      <th>OISESTR</th>\n",
       "      <th>SPX</th>\n",
       "      <th>SX5T</th>\n",
       "    </tr>\n",
       "    <tr>\n",
       "      <th>Date</th>\n",
       "      <th></th>\n",
       "      <th></th>\n",
       "      <th></th>\n",
       "    </tr>\n",
       "  </thead>\n",
       "  <tbody>\n",
       "    <tr>\n",
       "      <th>2019-10-01</th>\n",
       "      <td>-0.549</td>\n",
       "      <td>2940.250000</td>\n",
       "      <td>3518.250000</td>\n",
       "    </tr>\n",
       "    <tr>\n",
       "      <th>2019-10-02</th>\n",
       "      <td>-0.551</td>\n",
       "      <td>2887.610107</td>\n",
       "      <td>3413.310059</td>\n",
       "    </tr>\n",
       "    <tr>\n",
       "      <th>2019-10-03</th>\n",
       "      <td>-0.555</td>\n",
       "      <td>2910.629883</td>\n",
       "      <td>3417.370117</td>\n",
       "    </tr>\n",
       "    <tr>\n",
       "      <th>2019-10-04</th>\n",
       "      <td>-0.553</td>\n",
       "      <td>2952.010010</td>\n",
       "      <td>3446.709961</td>\n",
       "    </tr>\n",
       "    <tr>\n",
       "      <th>2019-10-07</th>\n",
       "      <td>-0.554</td>\n",
       "      <td>2938.790039</td>\n",
       "      <td>3471.239990</td>\n",
       "    </tr>\n",
       "    <tr>\n",
       "      <th>...</th>\n",
       "      <td>...</td>\n",
       "      <td>...</td>\n",
       "      <td>...</td>\n",
       "    </tr>\n",
       "    <tr>\n",
       "      <th>2024-02-08</th>\n",
       "      <td>3.908</td>\n",
       "      <td>4997.910156</td>\n",
       "      <td>4710.779785</td>\n",
       "    </tr>\n",
       "    <tr>\n",
       "      <th>2024-02-12</th>\n",
       "      <td>3.909</td>\n",
       "      <td>5021.839844</td>\n",
       "      <td>4746.350098</td>\n",
       "    </tr>\n",
       "    <tr>\n",
       "      <th>2024-02-13</th>\n",
       "      <td>3.909</td>\n",
       "      <td>4953.169922</td>\n",
       "      <td>4689.279785</td>\n",
       "    </tr>\n",
       "    <tr>\n",
       "      <th>2024-02-14</th>\n",
       "      <td>3.911</td>\n",
       "      <td>5000.620117</td>\n",
       "      <td>4709.220215</td>\n",
       "    </tr>\n",
       "    <tr>\n",
       "      <th>2024-02-15</th>\n",
       "      <td>3.911</td>\n",
       "      <td>5029.729980</td>\n",
       "      <td>4743.169922</td>\n",
       "    </tr>\n",
       "  </tbody>\n",
       "</table>\n",
       "<p>911 rows × 3 columns</p>\n",
       "</div>"
      ],
      "text/plain": [
       "            OISESTR          SPX         SX5T\n",
       "Date                                         \n",
       "2019-10-01   -0.549  2940.250000  3518.250000\n",
       "2019-10-02   -0.551  2887.610107  3413.310059\n",
       "2019-10-03   -0.555  2910.629883  3417.370117\n",
       "2019-10-04   -0.553  2952.010010  3446.709961\n",
       "2019-10-07   -0.554  2938.790039  3471.239990\n",
       "...             ...          ...          ...\n",
       "2024-02-08    3.908  4997.910156  4710.779785\n",
       "2024-02-12    3.909  5021.839844  4746.350098\n",
       "2024-02-13    3.909  4953.169922  4689.279785\n",
       "2024-02-14    3.911  5000.620117  4709.220215\n",
       "2024-02-15    3.911  5029.729980  4743.169922\n",
       "\n",
       "[911 rows x 3 columns]"
      ]
     },
     "execution_count": 64,
     "metadata": {},
     "output_type": "execute_result"
    }
   ],
   "source": [
    "import pandas as pd\n",
    "\n",
    "benchmark = pd.read_csv(\n",
    "    \"../data/benchmark.csv\",\n",
    "    sep=\",\",\n",
    "    date_format=\"%Y-%m-%d\",\n",
    "    parse_dates=True,\n",
    "    index_col=\"Date\",\n",
    ")\n",
    "benchmark"
   ]
  },
  {
   "cell_type": "code",
   "execution_count": 65,
   "metadata": {},
   "outputs": [
    {
     "name": "stderr",
     "output_type": "stream",
     "text": [
      "C:\\Users\\bzloch\\AppData\\Local\\Temp\\ipykernel_19424\\269628601.py:2: FutureWarning: Series.__getitem__ treating keys as positions is deprecated. In a future version, integer keys will always be treated as labels (consistent with DataFrame behavior). To access a value by position, use `ser.iloc[pos]`\n",
      "  benchmark[col] = benchmark[col].rolling(2).apply(lambda x: (x[1]-x[0]) / abs(x[0]))\n"
     ]
    },
    {
     "data": {
      "text/html": [
       "<div>\n",
       "<style scoped>\n",
       "    .dataframe tbody tr th:only-of-type {\n",
       "        vertical-align: middle;\n",
       "    }\n",
       "\n",
       "    .dataframe tbody tr th {\n",
       "        vertical-align: top;\n",
       "    }\n",
       "\n",
       "    .dataframe thead th {\n",
       "        text-align: right;\n",
       "    }\n",
       "</style>\n",
       "<table border=\"1\" class=\"dataframe\">\n",
       "  <thead>\n",
       "    <tr style=\"text-align: right;\">\n",
       "      <th></th>\n",
       "      <th>OISESTR</th>\n",
       "      <th>SPX</th>\n",
       "      <th>SX5T</th>\n",
       "    </tr>\n",
       "    <tr>\n",
       "      <th>Date</th>\n",
       "      <th></th>\n",
       "      <th></th>\n",
       "      <th></th>\n",
       "    </tr>\n",
       "  </thead>\n",
       "  <tbody>\n",
       "    <tr>\n",
       "      <th>2019-10-01</th>\n",
       "      <td>NaN</td>\n",
       "      <td>NaN</td>\n",
       "      <td>NaN</td>\n",
       "    </tr>\n",
       "    <tr>\n",
       "      <th>2019-10-02</th>\n",
       "      <td>-0.003643</td>\n",
       "      <td>-0.017903</td>\n",
       "      <td>-0.029827</td>\n",
       "    </tr>\n",
       "    <tr>\n",
       "      <th>2019-10-03</th>\n",
       "      <td>-0.007260</td>\n",
       "      <td>0.007972</td>\n",
       "      <td>0.001189</td>\n",
       "    </tr>\n",
       "    <tr>\n",
       "      <th>2019-10-04</th>\n",
       "      <td>0.003604</td>\n",
       "      <td>0.014217</td>\n",
       "      <td>0.008586</td>\n",
       "    </tr>\n",
       "    <tr>\n",
       "      <th>2019-10-07</th>\n",
       "      <td>-0.001808</td>\n",
       "      <td>-0.004478</td>\n",
       "      <td>0.007117</td>\n",
       "    </tr>\n",
       "    <tr>\n",
       "      <th>...</th>\n",
       "      <td>...</td>\n",
       "      <td>...</td>\n",
       "      <td>...</td>\n",
       "    </tr>\n",
       "    <tr>\n",
       "      <th>2024-02-08</th>\n",
       "      <td>0.000000</td>\n",
       "      <td>0.000571</td>\n",
       "      <td>0.006824</td>\n",
       "    </tr>\n",
       "    <tr>\n",
       "      <th>2024-02-12</th>\n",
       "      <td>0.000256</td>\n",
       "      <td>0.004788</td>\n",
       "      <td>0.007551</td>\n",
       "    </tr>\n",
       "    <tr>\n",
       "      <th>2024-02-13</th>\n",
       "      <td>0.000000</td>\n",
       "      <td>-0.013674</td>\n",
       "      <td>-0.012024</td>\n",
       "    </tr>\n",
       "    <tr>\n",
       "      <th>2024-02-14</th>\n",
       "      <td>0.000512</td>\n",
       "      <td>0.009580</td>\n",
       "      <td>0.004252</td>\n",
       "    </tr>\n",
       "    <tr>\n",
       "      <th>2024-02-15</th>\n",
       "      <td>0.000000</td>\n",
       "      <td>0.005821</td>\n",
       "      <td>0.007209</td>\n",
       "    </tr>\n",
       "  </tbody>\n",
       "</table>\n",
       "<p>911 rows × 3 columns</p>\n",
       "</div>"
      ],
      "text/plain": [
       "             OISESTR       SPX      SX5T\n",
       "Date                                    \n",
       "2019-10-01       NaN       NaN       NaN\n",
       "2019-10-02 -0.003643 -0.017903 -0.029827\n",
       "2019-10-03 -0.007260  0.007972  0.001189\n",
       "2019-10-04  0.003604  0.014217  0.008586\n",
       "2019-10-07 -0.001808 -0.004478  0.007117\n",
       "...              ...       ...       ...\n",
       "2024-02-08  0.000000  0.000571  0.006824\n",
       "2024-02-12  0.000256  0.004788  0.007551\n",
       "2024-02-13  0.000000 -0.013674 -0.012024\n",
       "2024-02-14  0.000512  0.009580  0.004252\n",
       "2024-02-15  0.000000  0.005821  0.007209\n",
       "\n",
       "[911 rows x 3 columns]"
      ]
     },
     "execution_count": 65,
     "metadata": {},
     "output_type": "execute_result"
    }
   ],
   "source": [
    "for col in benchmark.columns:\n",
    "    benchmark[col] = benchmark[col].rolling(2).apply(lambda x: (x[1]-x[0]) / abs(x[0]))\n",
    "    \n",
    "benchmark"
   ]
  },
  {
   "cell_type": "code",
   "execution_count": 67,
   "metadata": {},
   "outputs": [
    {
     "data": {
      "text/plain": [
       "<Axes: xlabel='Date'>"
      ]
     },
     "execution_count": 67,
     "metadata": {},
     "output_type": "execute_result"
    },
    {
     "data": {
      "image/png": "[encoded data removed]",
      "text/plain": [
       "<Figure size 640x480 with 1 Axes>"
      ]
     },
     "metadata": {},
     "output_type": "display_data"
    }
   ],
   "source": [
    "def compute_daily_return(row:pd.Series) -> float:\n",
    "    perf = (1 + (row[\"OISESTR\"] * 0.3 + row[\"SPX\"] * 0.2 + row[\"SX5T\"] * 0.5))\n",
    "    if perf <0:\n",
    "        print(row)\n",
    "    return perf\n",
    "benchmark.apply(\n",
    "   compute_daily_return,\n",
    "    axis=1,\n",
    ").cumprod().plot()"
   ]
  },
  {
   "cell_type": "code",
   "execution_count": 51,
   "metadata": {},
   "outputs": [
    {
     "data": {
      "text/plain": [
       "(OISESTR       0.662000\n",
       " SPX        3946.010010\n",
       " SX5T       3567.560059\n",
       " Name: 2022-09-14 00:00:00, dtype: float64,\n",
       " OISESTR      -0.083000\n",
       " SPX        3932.689941\n",
       " SX5T       3586.179932\n",
       " Name: 2022-09-13 00:00:00, dtype: float64)"
      ]
     },
     "execution_count": 51,
     "metadata": {},
     "output_type": "execute_result"
    }
   ],
   "source": [
    "benchmark.loc['2022-09-14'],benchmark.loc['2022-09-13']"
   ]
  },
  {
   "cell_type": "code",
   "execution_count": 54,
   "metadata": {},
   "outputs": [
    {
     "data": {
      "text/plain": [
       "8.975903614457831"
      ]
     },
     "execution_count": 54,
     "metadata": {},
     "output_type": "execute_result"
    }
   ],
   "source": [
    "( 0.662000-( -0.083000))/( 0.083000)"
   ]
  },
  {
   "cell_type": "code",
   "execution_count": null,
   "metadata": {},
   "outputs": [],
   "source": []
  }
 ],
 "metadata": {
  "kernelspec": {
   "display_name": ".venv",
   "language": "python",
   "name": "python3"
  },
  "language_info": {
   "codemirror_mode": {
    "name": "ipython",
    "version": 3
   },
   "file_extension": ".py",
   "mimetype": "text/x-python",
   "name": "python",
   "nbconvert_exporter": "python",
   "pygments_lexer": "ipython3",
   "version": "3.11.6"
  }
 },
 "nbformat": 4,
 "nbformat_minor": 2
}
