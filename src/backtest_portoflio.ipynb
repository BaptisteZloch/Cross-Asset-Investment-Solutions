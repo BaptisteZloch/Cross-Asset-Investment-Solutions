{
 "cells": [
  {
   "cell_type": "code",
   "execution_count": 1,
   "metadata": {},
   "outputs": [],
   "source": [
    "import pandas as pd\n",
    "import numpy as np\n",
    "from matplotlib import pyplot as plt\n",
    "from utility.types import RebalanceFrequencyEnum, AllocationMethodsEnum, RegimeDetectionModels\n",
    "\n",
    "from data.universe import Universe\n",
    "from data.benchmark import Benchmark\n",
    "\n",
    "from backtest.backtest import Backtester\n"
   ]
  },
  {
   "cell_type": "code",
   "execution_count": 2,
   "metadata": {},
   "outputs": [
    {
     "name": "stderr",
     "output_type": "stream",
     "text": [
      "                                                                            \r"
     ]
    },
    {
     "data": {
      "text/plain": [
       "2016-05-19    1.000000\n",
       "2016-05-20    1.000000\n",
       "2016-05-23    1.000000\n",
       "2016-05-24    1.000000\n",
       "2016-05-25    1.000000\n",
       "                ...   \n",
       "2024-03-01    1.658112\n",
       "2024-03-04    1.661620\n",
       "2024-03-05    1.655421\n",
       "2024-03-06    1.660339\n",
       "2024-03-07    1.671945\n",
       "Freq: B, Name: benchmark_perf, Length: 2036, dtype: float64"
      ]
     },
     "execution_count": 2,
     "metadata": {},
     "output_type": "execute_result"
    }
   ],
   "source": [
    "bench_obj = Benchmark(RebalanceFrequencyEnum.MONTH_END)\n",
    "bench_obj.benchmark_perf"
   ]
  },
  {
   "cell_type": "code",
   "execution_count": null,
   "metadata": {},
   "outputs": [],
   "source": [
    "univ_obj = Universe()\n",
    "universe = univ_obj.get_universe_returns()\n",
    "universe"
   ]
  },
  {
   "cell_type": "code",
   "execution_count": null,
   "metadata": {},
   "outputs": [],
   "source": [
    "d =univ_obj.get_universe_returns()\n",
    "d"
   ]
  },
  {
   "cell_type": "code",
   "execution_count": null,
   "metadata": {},
   "outputs": [],
   "source": [
    "\n",
    "bk_tester = Backtester(\n",
    "    universe_returns=univ_obj.get_universe_returns(),\n",
    "    market_returns=universe[\"ETF_SPX\"],\n",
    "    benchmark_returns=bench_obj.benchmark_returns,\n",
    ")\n",
    "\n",
    "\n",
    "ptf_and_bench, ptf_weights_equal_weight, regimes, metrics_df = bk_tester.run_backtest(\n",
    "    allocation_type=AllocationMethodsEnum.EQUALLY_WEIGHTED,\n",
    "    rebalance_frequency=RebalanceFrequencyEnum.MONTH_END,\n",
    "    market_regime_model=RegimeDetectionModels.HIDDEN_MARKOV_MODEL,\n",
    "    transaction_cost_by_securities={k: 0.0015 for k in universe.columns},\n",
    "    bearish_leverage_by_securities={'MONTAIRE': 1,\n",
    "                                    'ETF_GROWTH': 1,\n",
    "                                    'ETF_VALUE': 1,\n",
    "                                    'ETF_CAC': 0.6,\n",
    "                                    'ETF_SPX': 0.6},\n",
    "    bullish_leverage_by_securities={'MONTAIRE': 1,\n",
    "                                    'ETF_GROWTH': 1,\n",
    "                                    'ETF_VALUE': 1,\n",
    "                                    'ETF_CAC': 1,\n",
    "                                    'ETF_SPX': 1},\n",
    "    verbose=False,\n",
    ")\n"
   ]
  },
  {
   "cell_type": "code",
   "execution_count": null,
   "metadata": {},
   "outputs": [],
   "source": [
    "fig, ax = plt.subplots(1, 1, figsize=(25, 10))\n",
    "\n",
    "\n",
    "ax.plot(regimes.index,regimes.next_beta, label=\"Beta\")\n",
    "ax_l = ax.twinx()\n",
    "ax_l.fill_between(\n",
    "    regimes.index,\n",
    "    regimes[\"Regime\"],\n",
    "    alpha=0.2,\n",
    "    color=\"red\",\n",
    "    step=\"pre\",\n",
    ")\n",
    "ax.set_xlabel(\"Datetime\", fontsize=15)\n",
    "ax.set_ylabel(\"Beta\", fontsize=15)\n",
    "ax.set_title(f\"Dynamic beta evolution\", fontsize=20)\n",
    "ax.grid()\n",
    "ax.legend(fontsize=15)\n",
    "\n"
   ]
  }
 ],
 "metadata": {
  "kernelspec": {
   "display_name": ".venv",
   "language": "python",
   "name": "python3"
  },
  "language_info": {
   "codemirror_mode": {
    "name": "ipython",
    "version": 3
   },
   "file_extension": ".py",
   "mimetype": "text/x-python",
   "name": "python",
   "nbconvert_exporter": "python",
   "pygments_lexer": "ipython3",
   "version": "3.11.6"
  }
 },
 "nbformat": 4,
 "nbformat_minor": 2
}
