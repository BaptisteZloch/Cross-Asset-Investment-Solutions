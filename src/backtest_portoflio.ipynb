{
 "cells": [
  {
   "cell_type": "code",
   "execution_count": null,
   "metadata": {},
   "outputs": [],
   "source": [
    "import pandas as pd\n",
    "import numpy as np\n",
    "from matplotlib import pyplot as plt\n",
    "from utility.types import (\n",
    "    RebalanceFrequencyEnum,\n",
    "    AllocationMethodsEnum,\n",
    "    RegimeDetectionModels,\n",
    ")\n",
    "\n",
    "from data.universe import Universe\n",
    "from data.benchmark import Benchmark\n",
    "\n",
    "from backtest.backtest import Backtester"
   ]
  },
  {
   "cell_type": "code",
   "execution_count": null,
   "metadata": {},
   "outputs": [],
   "source": [
    "bench_obj = Benchmark(RebalanceFrequencyEnum.MONTH_END)\n",
    "bench_obj.benchmark_perf"
   ]
  },
  {
   "cell_type": "code",
   "execution_count": null,
   "metadata": {},
   "outputs": [],
   "source": [
    "univ_obj = Universe(keep_only_benchmark_universe=True)\n",
    "universe = univ_obj.get_universe_returns()\n",
    "universe"
   ]
  },
  {
   "cell_type": "code",
   "execution_count": null,
   "metadata": {},
   "outputs": [],
   "source": [
    "bk_tester = Backtester(\n",
    "    universe_returns=univ_obj.get_universe_returns(),\n",
    "    market_returns=univ_obj.get_universe_returns()[\"SPTR500N\"],\n",
    "    benchmark_returns=bench_obj.benchmark_returns,\n",
    ")\n",
    "\n",
    "\n",
    "ptf_and_bench, ptf_weights_equal_weight, regimes, metrics_df = bk_tester.run_backtest(\n",
    "    allocation_type=AllocationMethodsEnum.EQUALLY_WEIGHTED,\n",
    "    rebalance_frequency=RebalanceFrequencyEnum.MONTH_END,\n",
    "    market_regime_model=RegimeDetectionModels.HIDDEN_MARKOV_MODEL,\n",
    "    bearish_leverage_by_securities={k: 1 for k in universe.columns},\n",
    "    bullish_leverage_by_securities={k: 1 for k in universe.columns},\n",
    "    verbose=False,\n",
    ")"
   ]
  },
  {
   "cell_type": "code",
   "execution_count": null,
   "metadata": {},
   "outputs": [],
   "source": [
    "fig, ax = plt.subplots(1, 1, figsize=(25, 10))\n",
    "\n",
    "\n",
    "ax.plot(regimes.index, regimes.next_beta, label=\"Beta\")\n",
    "ax_l = ax.twinx()\n",
    "ax_l.fill_between(\n",
    "    regimes.index,\n",
    "    regimes[\"Regime\"],\n",
    "    alpha=0.2,\n",
    "    color=\"red\",\n",
    "    step=\"pre\",\n",
    ")\n",
    "ax.set_xlabel(\"Datetime\", fontsize=15)\n",
    "ax.set_ylabel(\"Beta\", fontsize=15)\n",
    "ax.set_title(f\"Dynamic beta evolution\", fontsize=20)\n",
    "ax.grid()\n",
    "ax.legend(fontsize=15)"
   ]
  },
  {
   "cell_type": "code",
   "execution_count": null,
   "metadata": {},
   "outputs": [],
   "source": []
  },
  {
   "cell_type": "code",
   "execution_count": null,
   "metadata": {},
   "outputs": [],
   "source": []
  }
 ],
 "metadata": {
  "kernelspec": {
   "display_name": ".venv",
   "language": "python",
   "name": "python3"
  },
  "language_info": {
   "codemirror_mode": {
    "name": "ipython",
    "version": 3
   },
   "file_extension": ".py",
   "mimetype": "text/x-python",
   "name": "python",
   "nbconvert_exporter": "python",
   "pygments_lexer": "ipython3",
   "version": "3.9.13"
  }
 },
 "nbformat": 4,
 "nbformat_minor": 2
}
